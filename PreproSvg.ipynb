{
 "cells": [
  {
   "cell_type": "markdown",
   "metadata": {},
   "source": [
    "# Introduction\n",
    "\n",
    "The svgfile contains the segmentation annotation. These annotations can be of two types, closed polygon or open polyline. It is important to note that the coordinate system of the PlotFast software has an origin in the exact middle of the image, and a unit of 1 µm (check with QuPath).\n",
    "\n",
    "## Annotation\n",
    "\n",
    "The annotation process will be as follow :\n",
    "- First, curated svg files are picked from PlotFast with the usual pipeline\n",
    "- The svg files are preprocessed by the preprocess_svg command in the current package, this removes the dots and split the image with a outline, outline+white matter, structures (including claustrum+, putamen, amygdala) into the png format. The coordinates are ??????. The image will be encoded in 1-bit per pixel for convenience.\n",
    "- For the white matter and outline, a manual step is necessary to fill the inside. This step is automatic for the structures.\n",
    "\n",
    "At this step of the process, we have a root/slides directory having slides and a root/annotations/png/`structure_name` having png for each slide and each structure (if there is). A blank png should normally appear is the structure is not provided.\n",
    "\n",
    "- All the png files are then stored in the associated hdf5 file\n",
    "\n",
    "## Training\n",
    "\n",
    "Training uses intensive augmentation to increase the performances of the model, mainly using rotation, vertical flip and color shifts.\n",
    "\n",
    "The training process will be as follow :\n",
    "\n",
    "\n",
    "## Segmentation\n",
    "\n",
    "The segmentation process will be as follow :\n"
   ]
  },
  {
   "cell_type": "code",
   "execution_count": 1,
   "metadata": {},
   "outputs": [],
   "source": [
    "import lxml.etree as ET"
   ]
  },
  {
   "cell_type": "code",
   "execution_count": 2,
   "metadata": {},
   "outputs": [],
   "source": [
    "path = \"data/M148 LHRH288seg.svg\""
   ]
  },
  {
   "cell_type": "code",
   "execution_count": 3,
   "metadata": {},
   "outputs": [],
   "source": [
    "xml = ET.parse(path)\n",
    "svg = xml.getroot()"
   ]
  },
  {
   "cell_type": "code",
   "execution_count": 4,
   "metadata": {},
   "outputs": [],
   "source": [
    "def is_line(node):\n",
    "    if not isinstance(node.tag, str):\n",
    "        return False\n",
    "    elif \"polygon\" in node.tag:\n",
    "        return True\n",
    "    elif \"polyline\" in node.tag:\n",
    "        return True\n",
    "    return False"
   ]
  },
  {
   "cell_type": "code",
   "execution_count": 5,
   "metadata": {},
   "outputs": [],
   "source": [
    "for x in svg.iterchildren():\n",
    "    if not is_line(x):\n",
    "        try:\n",
    "            svg.remove(x)\n",
    "        except:\n",
    "            print(x)\n",
    "            raise"
   ]
  },
  {
   "cell_type": "code",
   "execution_count": 6,
   "metadata": {},
   "outputs": [],
   "source": [
    "et = ET.ElementTree(svg)\n",
    "et.write('data/output.svg', pretty_print=True)"
   ]
  },
  {
   "cell_type": "code",
   "execution_count": 25,
   "metadata": {},
   "outputs": [],
   "source": [
    "def css_to_dict(css):\n",
    "    return dict([map(str.strip, element.split(\":\")) for element in css.split(\";\")])\n",
    "\n",
    "def dict_to_css(d):\n",
    "    return \"; \".join([\":\".join((k, v)) for k, v in d.items()])"
   ]
  },
  {
   "cell_type": "code",
   "execution_count": 27,
   "metadata": {},
   "outputs": [],
   "source": [
    "for x in svg.iterchildren():\n",
    "    css = x.attrib[\"style\"]\n",
    "    d = css_to_dict(css)\n",
    "    if 'stroke-width' in d:\n",
    "        d[\"stroke-width\"] = \"50\"\n",
    "    css = dict_to_css(d)\n",
    "    x.attrib[\"style\"] = css"
   ]
  },
  {
   "cell_type": "code",
   "execution_count": 28,
   "metadata": {},
   "outputs": [],
   "source": [
    "et = ET.ElementTree(svg)\n",
    "et.write('data/output2.svg', pretty_print=True)"
   ]
  },
  {
   "cell_type": "code",
   "execution_count": 41,
   "metadata": {},
   "outputs": [
    {
     "name": "stdout",
     "output_type": "stream",
     "text": [
      "7638\n",
      "rgb(255,0,0)\n",
      "1164\n",
      "rgb(255,0,0)\n",
      "784\n",
      "rgb(243,0,0)\n",
      "485\n",
      "rgb(228,0,0)\n",
      "1980\n",
      "rgb(0,248,255)\n",
      "3610\n",
      "rgb(0,255,255)\n",
      "798\n",
      "rgb(0,255,255)\n",
      "1301\n",
      "rgb(0,248,255)\n",
      "7080\n",
      "rgb(0,248,255)\n",
      "248\n",
      "rgb(0,248,255)\n",
      "250\n",
      "rgb(0,248,255)\n"
     ]
    }
   ],
   "source": [
    "for x in svg.iterchildren():\n",
    "    # print(x)\n",
    "    d = css_to_dict(x.attrib[\"style\"])\n",
    "    print(len(x.attrib[\"points\"]))\n",
    "    print(d[\"stroke\"].strip())"
   ]
  },
  {
   "cell_type": "code",
   "execution_count": 32,
   "metadata": {},
   "outputs": [],
   "source": [
    "d = css_to_dict(x.attrib[\"style\"])"
   ]
  },
  {
   "cell_type": "code",
   "execution_count": 34,
   "metadata": {},
   "outputs": [
    {
     "data": {
      "text/plain": [
       "'rgb(0,248,255)'"
      ]
     },
     "execution_count": 34,
     "metadata": {},
     "output_type": "execute_result"
    }
   ],
   "source": [
    "d[\"stroke\"]"
   ]
  },
  {
   "cell_type": "code",
   "execution_count": 44,
   "metadata": {},
   "outputs": [],
   "source": [
    "new_element = ET.fromstring(ET.tostring(svg))"
   ]
  },
  {
   "cell_type": "code",
   "execution_count": 47,
   "metadata": {},
   "outputs": [],
   "source": [
    "new_element.attrib[\"viewBox\"] = \"-30000 -30000 30000 30000\""
   ]
  },
  {
   "cell_type": "code",
   "execution_count": 48,
   "metadata": {
    "scrolled": true
   },
   "outputs": [
    {
     "data": {
      "text/plain": [
       "{'Version': '1.1', 'viewBox': '-30000 -30000 30000 30000', 'preserveAspectRatio': 'xMidYMid meet'}"
      ]
     },
     "execution_count": 48,
     "metadata": {},
     "output_type": "execute_result"
    }
   ],
   "source": [
    "new_element.attrib"
   ]
  },
  {
   "cell_type": "code",
   "execution_count": 50,
   "metadata": {},
   "outputs": [],
   "source": [
    "from PIL import Image"
   ]
  },
  {
   "cell_type": "code",
   "execution_count": 64,
   "metadata": {},
   "outputs": [],
   "source": [
    "img = Image.open(\"data/test_export.png\")\n",
    "\n",
    "import numpy as np\n",
    "\n",
    "arr = np.asarray(img)\n",
    "\n",
    "arr.shape\n",
    "\n",
    "arr\n",
    "\n",
    "arr2 = arr * (arr == 255)\n",
    "\n",
    "n_img = Image.fromarray(arr2)\n",
    "\n",
    "n_img.save(\"data/simple_image.png\")"
   ]
  },
  {
   "cell_type": "code",
   "execution_count": 77,
   "metadata": {},
   "outputs": [],
   "source": [
    "import openslide as op"
   ]
  },
  {
   "cell_type": "code",
   "execution_count": null,
   "metadata": {},
   "outputs": [],
   "source": [
    "def load_slide():\n",
    "    pass\n",
    "\n",
    "def load_mask():\n",
    "    pass\n",
    "\n",
    "def get_tile_slide():\n",
    "    pass\n",
    "\n",
    "def get_tile_mask():\n",
    "    # convert slide coord to mask coord\n",
    "    pass\n",
    "\n",
    "def get_tile_both():\n",
    "    pass"
   ]
  }
 ],
 "metadata": {
  "kernelspec": {
   "display_name": "brainseg",
   "language": "python",
   "name": "brainseg"
  },
  "language_info": {
   "codemirror_mode": {
    "name": "ipython",
    "version": 3
   },
   "file_extension": ".py",
   "mimetype": "text/x-python",
   "name": "python",
   "nbconvert_exporter": "python",
   "pygments_lexer": "ipython3",
   "version": "3.8.10"
  }
 },
 "nbformat": 4,
 "nbformat_minor": 4
}
