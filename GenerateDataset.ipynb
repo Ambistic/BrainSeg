{
 "cells": [
  {
   "cell_type": "markdown",
   "metadata": {},
   "source": [
    "# White Matter dataset"
   ]
  },
  {
   "cell_type": "markdown",
   "metadata": {},
   "source": [
    "-> to script with param\n",
    "\n",
    "- slides\n",
    "- masks\n",
    "- downsample\n",
    "- size\n",
    "- output\n",
    "- area"
   ]
  },
  {
   "cell_type": "code",
   "execution_count": 15,
   "metadata": {},
   "outputs": [],
   "source": [
    "from brainseg.slide_provider import get_mask_from_slidepath\n",
    "from brainseg.utils import save_data\n",
    "from brainseg.streamlit.manager import init_curation_dataset, fill_curation_dataset\n",
    "from brainseg.slide_provider import SlideHandler\n",
    "from brainseg.provider import provider\n",
    "from brainseg.loader import Loader\n",
    "\n",
    "import aicspylibczi\n",
    "import os\n",
    "import glob\n",
    "from itertools import product\n",
    "from pathlib import Path\n",
    "from PIL import Image\n",
    "import numpy as np\n",
    "import re"
   ]
  },
  {
   "cell_type": "code",
   "execution_count": 19,
   "metadata": {},
   "outputs": [],
   "source": [
    "slides = Path(\"/media/nathan/LaCie/REGISTRATION_PROJECT/M148_RH/\")\n",
    "masks = Path(\"/media/nathan/LaCie/REGISTRATION_PROJECT/FILLED_MASK_M148_RH/\")"
   ]
  },
  {
   "cell_type": "code",
   "execution_count": 25,
   "metadata": {},
   "outputs": [],
   "source": [
    "def slides_with_mask(slides_path, masks_path):\n",
    "    keep = []\n",
    "    for slidepath in os.listdir(slides):\n",
    "        if get_mask_from_slidepath(slidepath, masks) is not None:\n",
    "            keep.append(slidepath)\n",
    "    return keep"
   ]
  },
  {
   "cell_type": "code",
   "execution_count": 21,
   "metadata": {},
   "outputs": [],
   "source": [
    "def parse_curation_name(name):\n",
    "    try:\n",
    "        return re.findall(\"(.+)_\\d+_\\d+\", name)[0]\n",
    "    except:\n",
    "        return None"
   ]
  },
  {
   "cell_type": "code",
   "execution_count": 35,
   "metadata": {},
   "outputs": [],
   "source": [
    "def only_new_slides(slides_path, cur_dts_path):\n",
    "    current_slides = set(filter(lambda x: x is not None,\n",
    "                                map(parse_curation_name,\n",
    "                                    os.listdir(cur_dts_path))))\n",
    "    slides = list(set(slides_path) - current_slides)\n",
    "    return slides"
   ]
  },
  {
   "cell_type": "code",
   "execution_count": 36,
   "metadata": {},
   "outputs": [],
   "source": [
    "keep = slides_with_mask(slides, masks)"
   ]
  },
  {
   "cell_type": "code",
   "execution_count": 37,
   "metadata": {},
   "outputs": [
    {
     "data": {
      "text/plain": [
       "35"
      ]
     },
     "execution_count": 37,
     "metadata": {},
     "output_type": "execute_result"
    }
   ],
   "source": [
    "len(keep)"
   ]
  },
  {
   "cell_type": "code",
   "execution_count": 38,
   "metadata": {},
   "outputs": [],
   "source": [
    "keep = only_new_slides(keep, \"/media/nathan/LaCie/Data/whitematter_curated2\")"
   ]
  },
  {
   "cell_type": "code",
   "execution_count": 39,
   "metadata": {},
   "outputs": [
    {
     "data": {
      "text/plain": [
       "30"
      ]
     },
     "execution_count": 39,
     "metadata": {},
     "output_type": "execute_result"
    }
   ],
   "source": [
    "len(keep)"
   ]
  },
  {
   "cell_type": "code",
   "execution_count": 5,
   "metadata": {},
   "outputs": [],
   "source": [
    "def build_czi_patches(fp, downsample, size):\n",
    "    # non overlapping patches\n",
    "    slide = aicspylibczi.CziFile(str(fp))\n",
    "    bbox = slide.get_mosaic_bounding_box()\n",
    "    max_size = int(bbox.h / downsample), int(bbox.w / downsample)\n",
    "    patches = [\n",
    "        dict(\n",
    "            slidepath=str(fp),\n",
    "            ori_x=i,\n",
    "            ori_y=j,\n",
    "            downscale=downsample,\n",
    "            size=size\n",
    "        )\n",
    "        for i, j in product(\n",
    "            range(0, bbox.w, size * downsample),\n",
    "            range(0, bbox.h, size * downsample)\n",
    "        )\n",
    "    ]\n",
    "    \n",
    "    return patches"
   ]
  },
  {
   "cell_type": "code",
   "execution_count": 6,
   "metadata": {},
   "outputs": [],
   "source": [
    "all_patches = sum([build_czi_patches(slides / sl, 32, 224) for sl in keep], [])\n",
    "all_patches = list(map(lambda x: (\"whitematter\", x), all_patches))"
   ]
  },
  {
   "cell_type": "code",
   "execution_count": 7,
   "metadata": {},
   "outputs": [],
   "source": [
    "# save_data(all_patches, \"data/dataset/tinyset.pck\")"
   ]
  },
  {
   "cell_type": "code",
   "execution_count": 8,
   "metadata": {},
   "outputs": [],
   "source": [
    "sh = SlideHandler(\"/media/nathan/LaCie/M148_RH/\", \"/media/nathan/KINGSTON/BrainMapping/filled_masks_148/\")\n",
    "provider.register(sh)"
   ]
  },
  {
   "cell_type": "code",
   "execution_count": 9,
   "metadata": {},
   "outputs": [],
   "source": [
    "def preprocess_curation_dataset(d, x, y):\n",
    "    x = x.astype(np.uint8)\n",
    "    y = y * 255\n",
    "\n",
    "    data_name = f\"{Path(d[1]['slidepath']).name}_{d[1]['ori_x']}_{d[1]['ori_y']}\"\n",
    "    res = dict(\n",
    "        data_name=data_name,\n",
    "        image=Image.fromarray(x),\n",
    "        mask=Image.fromarray(y)\n",
    "    )\n",
    "    return res"
   ]
  },
  {
   "cell_type": "code",
   "execution_count": 10,
   "metadata": {},
   "outputs": [],
   "source": [
    "loader = Loader(all_patches, preprocess=preprocess_curation_dataset)"
   ]
  },
  {
   "cell_type": "code",
   "execution_count": 11,
   "metadata": {},
   "outputs": [],
   "source": [
    "root_cur_dts = \"/media/nathan/LaCie/Data/whitematter_curated2\"\n",
    "init_curation_dataset(root_cur_dts)"
   ]
  },
  {
   "cell_type": "code",
   "execution_count": 12,
   "metadata": {},
   "outputs": [],
   "source": [
    "fill_curation_dataset(root_cur_dts, loader, name=\"first\")"
   ]
  },
  {
   "cell_type": "code",
   "execution_count": 2,
   "metadata": {},
   "outputs": [],
   "source": [
    "import imgaug.augmenters as iaa\n",
    "\n",
    "seq = iaa.Sequential([\n",
    "    iaa.Fliplr(0.5), # horizontal flips\n",
    "    iaa.Flipud(0.5), # horizontal flips\n",
    "    iaa.Rot90([0, 1, 2, 3]),\n",
    "    iaa.Affine(\n",
    "        scale={\"x\": (0.8, 1.2), \"y\": (0.8, 1.2)},\n",
    "        translate_percent={\"x\": (-0.2, 0.2), \"y\": (-0.2, 0.2)},\n",
    "        rotate=(-25, 25),\n",
    "        shear=(-8, 8)\n",
    "    )\n",
    "]) \n",
    "\n",
    "seq(image=image, segmentation_maps=segmap)"
   ]
  }
 ],
 "metadata": {
  "kernelspec": {
   "display_name": "brainseg",
   "language": "python",
   "name": "brainseg"
  },
  "language_info": {
   "codemirror_mode": {
    "name": "ipython",
    "version": 3
   },
   "file_extension": ".py",
   "mimetype": "text/x-python",
   "name": "python",
   "nbconvert_exporter": "python",
   "pygments_lexer": "ipython3",
   "version": "3.8.10"
  }
 },
 "nbformat": 4,
 "nbformat_minor": 4
}
