{
 "cells": [
  {
   "cell_type": "code",
   "execution_count": 3,
   "metadata": {},
   "outputs": [],
   "source": [
    "import lxml.etree as ET\n",
    "\n",
    "from brainseg.svg.utils import is_point, save_element, is_line, points_to_numpy, \\\n",
    "    numpy_to_points, css_to_dict, dict_to_css\n",
    "from brainseg.svg.parse import get_neuron_cat\n",
    "import numpy as np"
   ]
  },
  {
   "cell_type": "code",
   "execution_count": 3,
   "metadata": {},
   "outputs": [],
   "source": [
    "xml = ET.parse(\"/media/nathan/KINGSTON/Van_Essen_Project/svg input/M148 LHRH294seg.svg\")\n",
    "svg = xml.getroot()"
   ]
  },
  {
   "cell_type": "markdown",
   "metadata": {},
   "source": [
    "# First objective is to extract the points"
   ]
  },
  {
   "cell_type": "code",
   "execution_count": 4,
   "metadata": {},
   "outputs": [],
   "source": [
    "DYE_DICT = {\n",
    "    \"1\": \"FB\",\n",
    "    \"2\": \"CTB555\",\n",
    "}"
   ]
  },
  {
   "cell_type": "code",
   "execution_count": 9,
   "metadata": {},
   "outputs": [],
   "source": [
    "ls_neurons = []\n",
    "last_comment = None\n",
    "for x in svg.iterchildren():\n",
    "    if is_point(x):\n",
    "        cat = get_neuron_cat(last_comment.text)\n",
    "        dye = DYE_DICT[cat]\n",
    "        cx = x.attrib[\"x\" if \"x\" in x.attrib else \"cx\"]\n",
    "        cy = x.attrib[\"y\" if \"y\" in x.attrib else \"cy\"]\n",
    "        ls_neurons.append((dye, cx, cy))\n",
    "\n",
    "    if isinstance(x, ET._Comment):\n",
    "        last_comment = x\n",
    "    else:\n",
    "        last_comment = None\n",
    "\n",
    "\n",
    "def neurons_to_str(ls, id_slice):\n",
    "    return \"\\n\".join(\n",
    "        [','.join(\n",
    "            [str(i), x, y, \"0\", id_slice, dye]\n",
    "        ) for i, (dye, x, y) in enumerate(ls)]\n",
    "    )\n",
    "\n",
    "def create_neuron_file_content(neurons, id_slice):\n",
    "    str_neurons = neurons_to_str(neurons, id_slice)\n",
    "    string = \"\\n\".join([\n",
    "        \"CSVF-FILE,0,,,,\" ,\n",
    "        \"csvf-section-start,header,2,,,\" ,\n",
    "        \"tag,value,,,,\" ,\n",
    "        \"Caret-Version,5.64,,,,\" ,\n",
    "        \"encoding,COMMA_SEPARATED_VALUE_FILE,,,,\" ,\n",
    "        \"csvf-section-end,header,,,,\" ,\n",
    "        \"csvf-section-start,Cells,6,,,\" ,\n",
    "        \"Cell Number,X,Y,Z,Section,Name\" ,\n",
    "        str_neurons,\n",
    "        \"csvf-section-end,Cells,,,,\"\n",
    "    ])\n",
    "    return string\n",
    "\n",
    "create_neuron_file_content(ls_neurons, \"294\")[:10]"
   ]
  },
  {
   "cell_type": "code",
   "execution_count": 26,
   "metadata": {},
   "outputs": [],
   "source": [
    "# should be quite straightforward"
   ]
  },
  {
   "cell_type": "markdown",
   "metadata": {},
   "source": [
    "\n",
    "  #produce the svg files\n",
    "  lapply (contour.svg, write, paste ( output.names[s], \"_pial.svg\", sep = \"\") , append=TRUE, ncolumns=1 , sep = \"\\n\")\n",
    "  lapply (wm.svg, write, paste (output.names[s], \"_white.svg\", sep = \"\") , append=TRUE, ncolumns=1 , sep = \"\\n\")\n",
    "  \n",
    "  if (length (position.of.cla) != 0) lapply (cla.svg, write, paste (output.names[s], \"_cla.svg\", sep = \"\"), append=TRUE, ncolumns=1, sep = \"\\n\")\n",
    "  if (length (position.of.cla_ven) != 0) lapply (cla_ven.svg, write, paste (output.names[s], \"_cla_ven.svg\", sep = \"\"), append=TRUE, ncolumns=1, sep = \"\\n\")\n",
    "  if (length (position.of.cla_AchE) != 0) lapply (cla_AchE.svg, write, paste (output.names[s], \"_cla_AchE.svg\", sep = \"\"), append=TRUE, ncolumns=1, sep = \"\\n\")\n",
    "  if (length (position.of.cla_li) != 0) lapply (cla_li.svg, write, paste (output.names[s], \"_cla_li.svg\", sep = \"\"), append=TRUE, ncolumns=1, sep = \"\\n\")\n",
    "  \n",
    "  if (length (position.of.pu) != 0) lapply (pu.svg, write, paste (output.names[s], \"_pu.svg\", sep = \"\"), append=TRUE, ncolumns=1, sep = \"\\n\")\n",
    "  if (length (position.of.amy) != 0) lapply (amy.svg, write, paste (output.names[s], \"_amy.svg\", sep = \"\"), append=TRUE, ncolumns=1, sep = \"\\n\")\n",
    "  \n",
    "  if (l4 == \"yes\") if (length (position.of.L4) != 0) lapply (L4.svg, write, paste (output.names[s], \"_Layer4.svg\", sep = \"\"), append=TRUE, ncolumns=1, sep = \"\\n\")\n",
    "  if (partial == \"yes\") lapply (partial.svg, write, paste (output.names[s] , \"_partial_plot_marks.svg\", sep = \"\") , append=TRUE, ncolumns=1 , sep = \"\\n\")\n",
    "  #Pay attention to the correct name format required by Van Essen's team which can be recognized by the subsequent script. -YH\n",
    "  "
   ]
  },
  {
   "cell_type": "markdown",
   "metadata": {},
   "source": [
    "# Next try to see if we can add something"
   ]
  },
  {
   "cell_type": "code",
   "execution_count": 4,
   "metadata": {},
   "outputs": [],
   "source": [
    "xml = ET.parse(\"/media/nathan/KINGSTON/Van_Essen_Project/svg input/M148 LHRH294seg.svg\")\n",
    "svg = xml.getroot()"
   ]
  },
  {
   "cell_type": "code",
   "execution_count": 10,
   "metadata": {},
   "outputs": [],
   "source": [
    "svg = ET.fromstring(\n",
    "r\"\"\"<?xml version=\"1.0\" standalone=\"yes\"?>\n",
    "<!-- Generator by matlab -->\n",
    "<svg\n",
    "xmlns=\"http://www.w3.org/2000/svg\"\n",
    "xmlns:xlink=\"http://www.w3.org/1999/xlink\"\n",
    "xmlns:svg=\"http://www.w3.org/2000/svg\"\n",
    "Version=\"1.1\"\n",
    "viewBox=\"0 0 30000 30000\"\n",
    "preserveAspectRatio=\"xMidYMid meet\">\n",
    "\n",
    "</svg>\n",
    "\"\"\"\n",
    ")"
   ]
  },
  {
   "cell_type": "code",
   "execution_count": 11,
   "metadata": {},
   "outputs": [],
   "source": [
    "p = ET.Element(\"polyline\", dict(\n",
    "    points=\"589,-6460 589,-6460 1113,-6531 1119,-6530 1125,-6530\"\n",
    "           \"1131,-6530 1142,-6535 1685,-6704 1691,-6704 1698,-6709\",\n",
    "    style=\"stroke:rgb(0,248,255); fill:none; stroke-width:1\"\n",
    "))"
   ]
  },
  {
   "cell_type": "code",
   "execution_count": 12,
   "metadata": {},
   "outputs": [],
   "source": [
    "svg.append(p)"
   ]
  },
  {
   "cell_type": "code",
   "execution_count": 13,
   "metadata": {},
   "outputs": [],
   "source": [
    "save_element(svg, \"test_add.svg\")"
   ]
  },
  {
   "cell_type": "code",
   "execution_count": 14,
   "metadata": {},
   "outputs": [
    {
     "data": {
      "text/plain": [
       "b'<?xml version=\\'1.0\\' encoding=\\'ASCII\\' standalone=\\'yes\\'?>\\n<svg xmlns=\"http://www.w3.org/2000/svg\" xmlns:xlink=\"http://www.w3.org/1999/xlink\" xmlns:svg=\"http://www.w3.org/2000/svg\" Version=\"1.1\" viewBox=\"0 0 30000 30000\" preserveAspectRatio=\"xMidYMid meet\">\\n\\n<polyline points=\"589,-6460 589,-6460 1113,-6531 1119,-6530 1125,-65301131,-6530 1142,-6535 1685,-6704 1691,-6704 1698,-6709\" style=\"stroke:rgb(0,248,255); fill:none; stroke-width:1\"/></svg>\\n'"
      ]
     },
     "execution_count": 14,
     "metadata": {},
     "output_type": "execute_result"
    }
   ],
   "source": [
    "et = ET.tostring(svg, pretty_print=True, xml_declaration=True, standalone='yes')\n",
    "et"
   ]
  },
  {
   "cell_type": "markdown",
   "metadata": {},
   "source": [
    "# Export the lines"
   ]
  },
  {
   "cell_type": "code",
   "execution_count": 46,
   "metadata": {},
   "outputs": [],
   "source": [
    "xml = ET.parse(\"/media/nathan/KINGSTON/Van_Essen_Project/svg input/M148 LHRH294seg.svg\")\n",
    "svg = xml.getroot()\n",
    "\n",
    "ls_points = []\n",
    "last_comment = None\n",
    "for x in svg.iterchildren():\n",
    "    if not is_line(x):\n",
    "        continue\n",
    "        \n",
    "    style = css_to_dict(x.attrib[\"style\"])\n",
    "    style[\"stroke-width\"] = \"100\"\n",
    "    x.attrib[\"style\"] = dict_to_css(style)\n",
    "        \n",
    "    ls_points.append(points_to_numpy(x.attrib[\"points\"]))\n",
    "\n",
    "all_points = np.vstack(ls_points)\n",
    "\n",
    "min_x, min_y = np.min(all_points, axis=0).astype(int)\n",
    "\n",
    "svg.attrib[\"viewBox\"] = f\"{min_x - 500} {min_y - 500} 60000 60000\"\n",
    "svg.attrib[\"width\"] = \"1000\"\n",
    "svg.attrib[\"height\"] = \"1000\"\n",
    "\n",
    "save_element(svg, \"/media/nathan/KINGSTON/Van_Essen_Project/svg input/test_lines294.svg\")"
   ]
  },
  {
   "cell_type": "code",
   "execution_count": null,
   "metadata": {},
   "outputs": [],
   "source": []
  }
 ],
 "metadata": {
  "kernelspec": {
   "display_name": "brainseg",
   "language": "python",
   "name": "brainseg"
  },
  "language_info": {
   "codemirror_mode": {
    "name": "ipython",
    "version": 3
   },
   "file_extension": ".py",
   "mimetype": "text/x-python",
   "name": "python",
   "nbconvert_exporter": "python",
   "pygments_lexer": "ipython3",
   "version": "3.8.10"
  }
 },
 "nbformat": 4,
 "nbformat_minor": 4
}
